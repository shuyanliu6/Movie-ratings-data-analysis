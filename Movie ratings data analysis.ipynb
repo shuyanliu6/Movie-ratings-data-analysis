{
 "cells": [
  {
   "cell_type": "markdown",
   "id": "2b6cd459",
   "metadata": {},
   "source": [
    "# Movie ratings data analysis\n",
    "by Shuyan Liu"
   ]
  },
  {
   "cell_type": "markdown",
   "id": "2399659c",
   "metadata": {},
   "source": [
    "In the competitive film industry, understanding viewer preferences is key to strategic planning. This report analyzes movie ratings from 1,097 participants, across 400 movies, uncovering patterns that could inform a movie studio's decisions. Using rigorous statistical tests, it links audience characteristics to their cinematic choices, providing targeted insights for future initiatives."
   ]
  },
  {
   "cell_type": "code",
   "execution_count": 1,
   "id": "45dde93c",
   "metadata": {
    "id": "b89c98e1-7ab1-45f2-9bf4-05f49ade5c05",
    "tags": []
   },
   "outputs": [],
   "source": [
    "import numpy as np\n",
    "import pandas as pd\n",
    "import scipy.stats as stats\n",
    "from scipy.stats import ttest_ind\n",
    "from scipy.stats import mannwhitneyu\n",
    "import matplotlib.pyplot as plt\n",
    "import seaborn as sns\n",
    "import re\n",
    "import scipy\n",
    "from scipy.stats import levene\n",
    "from scipy.stats import kstest, norm\n",
    "from scipy.stats import ks_2samp\n",
    "from scipy.stats import f_oneway"
   ]
  },
  {
   "cell_type": "code",
   "execution_count": 2,
   "id": "641250fd-7466-418c-afbc-9d0794aeb4ba",
   "metadata": {
    "colab": {
     "base_uri": "https://localhost:8080/",
     "height": 704
    },
    "id": "641250fd-7466-418c-afbc-9d0794aeb4ba",
    "outputId": "ce9124a0-0933-4bf4-d205-95dc751b424c",
    "scrolled": false,
    "tags": []
   },
   "outputs": [
    {
     "data": {
      "text/html": [
       "<div>\n",
       "<style scoped>\n",
       "    .dataframe tbody tr th:only-of-type {\n",
       "        vertical-align: middle;\n",
       "    }\n",
       "\n",
       "    .dataframe tbody tr th {\n",
       "        vertical-align: top;\n",
       "    }\n",
       "\n",
       "    .dataframe thead th {\n",
       "        text-align: right;\n",
       "    }\n",
       "</style>\n",
       "<table border=\"1\" class=\"dataframe\">\n",
       "  <thead>\n",
       "    <tr style=\"text-align: right;\">\n",
       "      <th></th>\n",
       "      <th>The Life of David Gale (2003)</th>\n",
       "      <th>Wing Commander (1999)</th>\n",
       "      <th>Django Unchained (2012)</th>\n",
       "      <th>Alien (1979)</th>\n",
       "      <th>Indiana Jones and the Last Crusade (1989)</th>\n",
       "      <th>Snatch (2000)</th>\n",
       "      <th>Rambo: First Blood Part II (1985)</th>\n",
       "      <th>Fargo (1996)</th>\n",
       "      <th>Let the Right One In (2008)</th>\n",
       "      <th>Black Swan (2010)</th>\n",
       "      <th>...</th>\n",
       "      <th>When watching a movie I cheer or shout or talk or curse at the screen</th>\n",
       "      <th>When watching a movie I feel like the things on the screen are happening to me</th>\n",
       "      <th>As a movie unfolds I start to have problems keeping track of events that happened earlier</th>\n",
       "      <th>The emotions on the screen \"rub off\" on me - for instance if something sad is happening I get sad or if something frightening is happening I get scared</th>\n",
       "      <th>When watching a movie I get completely immersed in the alternative reality of the film</th>\n",
       "      <th>Movies change my position on social economic or political issues</th>\n",
       "      <th>When watching movies things get so intense that I have to stop watching</th>\n",
       "      <th>Gender identity (1 = female; 2 = male; 3 = self-described)</th>\n",
       "      <th>Are you an only child? (1: Yes; 0: No; -1: Did not respond)</th>\n",
       "      <th>Movies are best enjoyed alone (1: Yes; 0: No; -1: Did not respond)</th>\n",
       "    </tr>\n",
       "  </thead>\n",
       "  <tbody>\n",
       "    <tr>\n",
       "      <th>0</th>\n",
       "      <td>NaN</td>\n",
       "      <td>NaN</td>\n",
       "      <td>4.0</td>\n",
       "      <td>NaN</td>\n",
       "      <td>3.0</td>\n",
       "      <td>NaN</td>\n",
       "      <td>NaN</td>\n",
       "      <td>NaN</td>\n",
       "      <td>NaN</td>\n",
       "      <td>NaN</td>\n",
       "      <td>...</td>\n",
       "      <td>1.0</td>\n",
       "      <td>6.0</td>\n",
       "      <td>2.0</td>\n",
       "      <td>5.0</td>\n",
       "      <td>5.0</td>\n",
       "      <td>5.0</td>\n",
       "      <td>1.0</td>\n",
       "      <td>1.0</td>\n",
       "      <td>0</td>\n",
       "      <td>1</td>\n",
       "    </tr>\n",
       "    <tr>\n",
       "      <th>1</th>\n",
       "      <td>NaN</td>\n",
       "      <td>NaN</td>\n",
       "      <td>1.5</td>\n",
       "      <td>NaN</td>\n",
       "      <td>NaN</td>\n",
       "      <td>NaN</td>\n",
       "      <td>NaN</td>\n",
       "      <td>NaN</td>\n",
       "      <td>NaN</td>\n",
       "      <td>NaN</td>\n",
       "      <td>...</td>\n",
       "      <td>3.0</td>\n",
       "      <td>1.0</td>\n",
       "      <td>1.0</td>\n",
       "      <td>6.0</td>\n",
       "      <td>5.0</td>\n",
       "      <td>3.0</td>\n",
       "      <td>2.0</td>\n",
       "      <td>1.0</td>\n",
       "      <td>0</td>\n",
       "      <td>0</td>\n",
       "    </tr>\n",
       "    <tr>\n",
       "      <th>2</th>\n",
       "      <td>NaN</td>\n",
       "      <td>NaN</td>\n",
       "      <td>NaN</td>\n",
       "      <td>NaN</td>\n",
       "      <td>NaN</td>\n",
       "      <td>NaN</td>\n",
       "      <td>NaN</td>\n",
       "      <td>NaN</td>\n",
       "      <td>NaN</td>\n",
       "      <td>NaN</td>\n",
       "      <td>...</td>\n",
       "      <td>5.0</td>\n",
       "      <td>4.0</td>\n",
       "      <td>3.0</td>\n",
       "      <td>5.0</td>\n",
       "      <td>5.0</td>\n",
       "      <td>4.0</td>\n",
       "      <td>4.0</td>\n",
       "      <td>1.0</td>\n",
       "      <td>1</td>\n",
       "      <td>0</td>\n",
       "    </tr>\n",
       "    <tr>\n",
       "      <th>3</th>\n",
       "      <td>NaN</td>\n",
       "      <td>NaN</td>\n",
       "      <td>2.0</td>\n",
       "      <td>NaN</td>\n",
       "      <td>3.0</td>\n",
       "      <td>NaN</td>\n",
       "      <td>NaN</td>\n",
       "      <td>NaN</td>\n",
       "      <td>NaN</td>\n",
       "      <td>4.0</td>\n",
       "      <td>...</td>\n",
       "      <td>3.0</td>\n",
       "      <td>1.0</td>\n",
       "      <td>1.0</td>\n",
       "      <td>4.0</td>\n",
       "      <td>5.0</td>\n",
       "      <td>3.0</td>\n",
       "      <td>1.0</td>\n",
       "      <td>1.0</td>\n",
       "      <td>0</td>\n",
       "      <td>1</td>\n",
       "    </tr>\n",
       "    <tr>\n",
       "      <th>4</th>\n",
       "      <td>NaN</td>\n",
       "      <td>NaN</td>\n",
       "      <td>3.5</td>\n",
       "      <td>NaN</td>\n",
       "      <td>0.5</td>\n",
       "      <td>NaN</td>\n",
       "      <td>0.5</td>\n",
       "      <td>1.0</td>\n",
       "      <td>NaN</td>\n",
       "      <td>0.0</td>\n",
       "      <td>...</td>\n",
       "      <td>2.0</td>\n",
       "      <td>3.0</td>\n",
       "      <td>2.0</td>\n",
       "      <td>5.0</td>\n",
       "      <td>6.0</td>\n",
       "      <td>4.0</td>\n",
       "      <td>4.0</td>\n",
       "      <td>1.0</td>\n",
       "      <td>1</td>\n",
       "      <td>1</td>\n",
       "    </tr>\n",
       "    <tr>\n",
       "      <th>...</th>\n",
       "      <td>...</td>\n",
       "      <td>...</td>\n",
       "      <td>...</td>\n",
       "      <td>...</td>\n",
       "      <td>...</td>\n",
       "      <td>...</td>\n",
       "      <td>...</td>\n",
       "      <td>...</td>\n",
       "      <td>...</td>\n",
       "      <td>...</td>\n",
       "      <td>...</td>\n",
       "      <td>...</td>\n",
       "      <td>...</td>\n",
       "      <td>...</td>\n",
       "      <td>...</td>\n",
       "      <td>...</td>\n",
       "      <td>...</td>\n",
       "      <td>...</td>\n",
       "      <td>...</td>\n",
       "      <td>...</td>\n",
       "      <td>...</td>\n",
       "    </tr>\n",
       "    <tr>\n",
       "      <th>1092</th>\n",
       "      <td>NaN</td>\n",
       "      <td>NaN</td>\n",
       "      <td>NaN</td>\n",
       "      <td>NaN</td>\n",
       "      <td>3.5</td>\n",
       "      <td>NaN</td>\n",
       "      <td>NaN</td>\n",
       "      <td>NaN</td>\n",
       "      <td>NaN</td>\n",
       "      <td>NaN</td>\n",
       "      <td>...</td>\n",
       "      <td>3.0</td>\n",
       "      <td>4.0</td>\n",
       "      <td>3.0</td>\n",
       "      <td>5.0</td>\n",
       "      <td>5.0</td>\n",
       "      <td>4.0</td>\n",
       "      <td>4.0</td>\n",
       "      <td>1.0</td>\n",
       "      <td>0</td>\n",
       "      <td>0</td>\n",
       "    </tr>\n",
       "    <tr>\n",
       "      <th>1093</th>\n",
       "      <td>3.0</td>\n",
       "      <td>4.0</td>\n",
       "      <td>NaN</td>\n",
       "      <td>NaN</td>\n",
       "      <td>4.0</td>\n",
       "      <td>4.0</td>\n",
       "      <td>2.5</td>\n",
       "      <td>NaN</td>\n",
       "      <td>3.5</td>\n",
       "      <td>3.5</td>\n",
       "      <td>...</td>\n",
       "      <td>5.0</td>\n",
       "      <td>3.0</td>\n",
       "      <td>5.0</td>\n",
       "      <td>5.0</td>\n",
       "      <td>5.0</td>\n",
       "      <td>6.0</td>\n",
       "      <td>5.0</td>\n",
       "      <td>1.0</td>\n",
       "      <td>0</td>\n",
       "      <td>0</td>\n",
       "    </tr>\n",
       "    <tr>\n",
       "      <th>1094</th>\n",
       "      <td>NaN</td>\n",
       "      <td>NaN</td>\n",
       "      <td>NaN</td>\n",
       "      <td>NaN</td>\n",
       "      <td>NaN</td>\n",
       "      <td>NaN</td>\n",
       "      <td>NaN</td>\n",
       "      <td>3.5</td>\n",
       "      <td>NaN</td>\n",
       "      <td>NaN</td>\n",
       "      <td>...</td>\n",
       "      <td>6.0</td>\n",
       "      <td>3.0</td>\n",
       "      <td>1.0</td>\n",
       "      <td>6.0</td>\n",
       "      <td>6.0</td>\n",
       "      <td>4.0</td>\n",
       "      <td>2.0</td>\n",
       "      <td>1.0</td>\n",
       "      <td>0</td>\n",
       "      <td>0</td>\n",
       "    </tr>\n",
       "    <tr>\n",
       "      <th>1095</th>\n",
       "      <td>NaN</td>\n",
       "      <td>NaN</td>\n",
       "      <td>NaN</td>\n",
       "      <td>NaN</td>\n",
       "      <td>NaN</td>\n",
       "      <td>NaN</td>\n",
       "      <td>NaN</td>\n",
       "      <td>NaN</td>\n",
       "      <td>NaN</td>\n",
       "      <td>NaN</td>\n",
       "      <td>...</td>\n",
       "      <td>1.0</td>\n",
       "      <td>1.0</td>\n",
       "      <td>1.0</td>\n",
       "      <td>4.0</td>\n",
       "      <td>3.0</td>\n",
       "      <td>3.0</td>\n",
       "      <td>1.0</td>\n",
       "      <td>1.0</td>\n",
       "      <td>0</td>\n",
       "      <td>1</td>\n",
       "    </tr>\n",
       "    <tr>\n",
       "      <th>1096</th>\n",
       "      <td>NaN</td>\n",
       "      <td>NaN</td>\n",
       "      <td>4.0</td>\n",
       "      <td>NaN</td>\n",
       "      <td>2.5</td>\n",
       "      <td>NaN</td>\n",
       "      <td>NaN</td>\n",
       "      <td>3.0</td>\n",
       "      <td>NaN</td>\n",
       "      <td>3.5</td>\n",
       "      <td>...</td>\n",
       "      <td>3.0</td>\n",
       "      <td>4.0</td>\n",
       "      <td>1.0</td>\n",
       "      <td>4.0</td>\n",
       "      <td>4.0</td>\n",
       "      <td>4.0</td>\n",
       "      <td>1.0</td>\n",
       "      <td>1.0</td>\n",
       "      <td>0</td>\n",
       "      <td>1</td>\n",
       "    </tr>\n",
       "  </tbody>\n",
       "</table>\n",
       "<p>1097 rows × 477 columns</p>\n",
       "</div>"
      ],
      "text/plain": [
       "      The Life of David Gale (2003)  Wing Commander (1999)  \\\n",
       "0                               NaN                    NaN   \n",
       "1                               NaN                    NaN   \n",
       "2                               NaN                    NaN   \n",
       "3                               NaN                    NaN   \n",
       "4                               NaN                    NaN   \n",
       "...                             ...                    ...   \n",
       "1092                            NaN                    NaN   \n",
       "1093                            3.0                    4.0   \n",
       "1094                            NaN                    NaN   \n",
       "1095                            NaN                    NaN   \n",
       "1096                            NaN                    NaN   \n",
       "\n",
       "      Django Unchained (2012)  Alien (1979)  \\\n",
       "0                         4.0           NaN   \n",
       "1                         1.5           NaN   \n",
       "2                         NaN           NaN   \n",
       "3                         2.0           NaN   \n",
       "4                         3.5           NaN   \n",
       "...                       ...           ...   \n",
       "1092                      NaN           NaN   \n",
       "1093                      NaN           NaN   \n",
       "1094                      NaN           NaN   \n",
       "1095                      NaN           NaN   \n",
       "1096                      4.0           NaN   \n",
       "\n",
       "      Indiana Jones and the Last Crusade (1989)  Snatch (2000)  \\\n",
       "0                                           3.0            NaN   \n",
       "1                                           NaN            NaN   \n",
       "2                                           NaN            NaN   \n",
       "3                                           3.0            NaN   \n",
       "4                                           0.5            NaN   \n",
       "...                                         ...            ...   \n",
       "1092                                        3.5            NaN   \n",
       "1093                                        4.0            4.0   \n",
       "1094                                        NaN            NaN   \n",
       "1095                                        NaN            NaN   \n",
       "1096                                        2.5            NaN   \n",
       "\n",
       "      Rambo: First Blood Part II (1985)  Fargo (1996)  \\\n",
       "0                                   NaN           NaN   \n",
       "1                                   NaN           NaN   \n",
       "2                                   NaN           NaN   \n",
       "3                                   NaN           NaN   \n",
       "4                                   0.5           1.0   \n",
       "...                                 ...           ...   \n",
       "1092                                NaN           NaN   \n",
       "1093                                2.5           NaN   \n",
       "1094                                NaN           3.5   \n",
       "1095                                NaN           NaN   \n",
       "1096                                NaN           3.0   \n",
       "\n",
       "      Let the Right One In (2008)  Black Swan (2010)  ...  \\\n",
       "0                             NaN                NaN  ...   \n",
       "1                             NaN                NaN  ...   \n",
       "2                             NaN                NaN  ...   \n",
       "3                             NaN                4.0  ...   \n",
       "4                             NaN                0.0  ...   \n",
       "...                           ...                ...  ...   \n",
       "1092                          NaN                NaN  ...   \n",
       "1093                          3.5                3.5  ...   \n",
       "1094                          NaN                NaN  ...   \n",
       "1095                          NaN                NaN  ...   \n",
       "1096                          NaN                3.5  ...   \n",
       "\n",
       "      When watching a movie I cheer or shout or talk or curse at the screen  \\\n",
       "0                                                   1.0                       \n",
       "1                                                   3.0                       \n",
       "2                                                   5.0                       \n",
       "3                                                   3.0                       \n",
       "4                                                   2.0                       \n",
       "...                                                 ...                       \n",
       "1092                                                3.0                       \n",
       "1093                                                5.0                       \n",
       "1094                                                6.0                       \n",
       "1095                                                1.0                       \n",
       "1096                                                3.0                       \n",
       "\n",
       "      When watching a movie I feel like the things on the screen are happening to me  \\\n",
       "0                                                   6.0                                \n",
       "1                                                   1.0                                \n",
       "2                                                   4.0                                \n",
       "3                                                   1.0                                \n",
       "4                                                   3.0                                \n",
       "...                                                 ...                                \n",
       "1092                                                4.0                                \n",
       "1093                                                3.0                                \n",
       "1094                                                3.0                                \n",
       "1095                                                1.0                                \n",
       "1096                                                4.0                                \n",
       "\n",
       "      As a movie unfolds I start to have problems keeping track of events that happened earlier  \\\n",
       "0                                                   2.0                                           \n",
       "1                                                   1.0                                           \n",
       "2                                                   3.0                                           \n",
       "3                                                   1.0                                           \n",
       "4                                                   2.0                                           \n",
       "...                                                 ...                                           \n",
       "1092                                                3.0                                           \n",
       "1093                                                5.0                                           \n",
       "1094                                                1.0                                           \n",
       "1095                                                1.0                                           \n",
       "1096                                                1.0                                           \n",
       "\n",
       "      The emotions on the screen \"rub off\" on me - for instance if something sad is happening I get sad or if something frightening is happening I get scared  \\\n",
       "0                                                   5.0                                                                                                         \n",
       "1                                                   6.0                                                                                                         \n",
       "2                                                   5.0                                                                                                         \n",
       "3                                                   4.0                                                                                                         \n",
       "4                                                   5.0                                                                                                         \n",
       "...                                                 ...                                                                                                         \n",
       "1092                                                5.0                                                                                                         \n",
       "1093                                                5.0                                                                                                         \n",
       "1094                                                6.0                                                                                                         \n",
       "1095                                                4.0                                                                                                         \n",
       "1096                                                4.0                                                                                                         \n",
       "\n",
       "      When watching a movie I get completely immersed in the alternative reality of the film  \\\n",
       "0                                                   5.0                                        \n",
       "1                                                   5.0                                        \n",
       "2                                                   5.0                                        \n",
       "3                                                   5.0                                        \n",
       "4                                                   6.0                                        \n",
       "...                                                 ...                                        \n",
       "1092                                                5.0                                        \n",
       "1093                                                5.0                                        \n",
       "1094                                                6.0                                        \n",
       "1095                                                3.0                                        \n",
       "1096                                                4.0                                        \n",
       "\n",
       "      Movies change my position on social economic or political issues  \\\n",
       "0                                                   5.0                  \n",
       "1                                                   3.0                  \n",
       "2                                                   4.0                  \n",
       "3                                                   3.0                  \n",
       "4                                                   4.0                  \n",
       "...                                                 ...                  \n",
       "1092                                                4.0                  \n",
       "1093                                                6.0                  \n",
       "1094                                                4.0                  \n",
       "1095                                                3.0                  \n",
       "1096                                                4.0                  \n",
       "\n",
       "      When watching movies things get so intense that I have to stop watching  \\\n",
       "0                                                   1.0                         \n",
       "1                                                   2.0                         \n",
       "2                                                   4.0                         \n",
       "3                                                   1.0                         \n",
       "4                                                   4.0                         \n",
       "...                                                 ...                         \n",
       "1092                                                4.0                         \n",
       "1093                                                5.0                         \n",
       "1094                                                2.0                         \n",
       "1095                                                1.0                         \n",
       "1096                                                1.0                         \n",
       "\n",
       "      Gender identity (1 = female; 2 = male; 3 = self-described)  \\\n",
       "0                                                   1.0            \n",
       "1                                                   1.0            \n",
       "2                                                   1.0            \n",
       "3                                                   1.0            \n",
       "4                                                   1.0            \n",
       "...                                                 ...            \n",
       "1092                                                1.0            \n",
       "1093                                                1.0            \n",
       "1094                                                1.0            \n",
       "1095                                                1.0            \n",
       "1096                                                1.0            \n",
       "\n",
       "      Are you an only child? (1: Yes; 0: No; -1: Did not respond)  \\\n",
       "0                                                     0             \n",
       "1                                                     0             \n",
       "2                                                     1             \n",
       "3                                                     0             \n",
       "4                                                     1             \n",
       "...                                                 ...             \n",
       "1092                                                  0             \n",
       "1093                                                  0             \n",
       "1094                                                  0             \n",
       "1095                                                  0             \n",
       "1096                                                  0             \n",
       "\n",
       "      Movies are best enjoyed alone (1: Yes; 0: No; -1: Did not respond)  \n",
       "0                                                     1                   \n",
       "1                                                     0                   \n",
       "2                                                     0                   \n",
       "3                                                     1                   \n",
       "4                                                     1                   \n",
       "...                                                 ...                   \n",
       "1092                                                  0                   \n",
       "1093                                                  0                   \n",
       "1094                                                  0                   \n",
       "1095                                                  1                   \n",
       "1096                                                  1                   \n",
       "\n",
       "[1097 rows x 477 columns]"
      ]
     },
     "execution_count": 2,
     "metadata": {},
     "output_type": "execute_result"
    }
   ],
   "source": [
    "data = pd.read_csv('/Users/shuyan/Desktop/DS1001/Data Analysis 1/movieReplicationSet.csv')\n",
    "data"
   ]
  },
  {
   "cell_type": "markdown",
   "id": "7b97d79c",
   "metadata": {},
   "source": [
    "# Brief dataset description"
   ]
  },
  {
   "cell_type": "markdown",
   "id": "4cab9fe9",
   "metadata": {},
   "source": [
    "This dataset features ratings data of 400 movies from 1097 research participants. \n",
    "\n",
    "1st row: Headers (Movie titles/questions)\n",
    "\n",
    "Row 2-1098: Responses from individual participants\n",
    "\n",
    "Columns 1-400: These columns contain the ratings for the 400 movies (0 to 4, and missing)\n",
    "\n",
    "Columns 401-421: These columns contain self-assessments on sensation seeking behaviors (1-5)\n",
    "\n",
    "Columns 422-464: These columns contain responses to personality questions (1-5)\n",
    "\n",
    "Columns 465-474: These columns contain self-reported movie experience ratings (1-5)\n",
    "\n",
    "Column 475: Gender identity (1 = female, 2 = male, 3 = self-described)\n",
    "\n",
    "Column 476: Only child (1 = yes, 0 = no, -1 = no response)\n",
    "\n",
    "Column 477: Movies are best enjoyed alone (1 = yes, 0 = no,-1 = no response)"
   ]
  },
  {
   "cell_type": "markdown",
   "id": "7asQyNjfShbf",
   "metadata": {
    "id": "7asQyNjfShbf"
   },
   "source": [
    "# Q1: Are movies that are more popular (operationalized as having more ratings) rated higher than movies that are less popular?\n"
   ]
  },
  {
   "cell_type": "markdown",
   "id": "61977b65",
   "metadata": {},
   "source": [
    "We wanted to see if popular movies get higher ratings. First, we looked at how many ratings each movie contained and found the median of all 400 movies. We then split the movies into two groups. Movies with more ratings than the median (high popularity group) and movies with fewer ratings (low popularity group). We conducted a K-S test that showed that the data does follow a normal distribution. To confirm if our data meets the assumption of homogeneity of the variance. We performed a Levene's test to see if Variances are equal across all groups. The test result suggest that the variances are not equal across all groups therefore, we performed a Welch's t-test instead of an independent sample T-test that will give us more statistical power in such cases. The test returned a U-Statistic: 17.756049269873714 P-Value: 9.536936590851687e-52. Given our alpha level of 0.005, we reject the null hypothesis and conclude that high-popularity movies have significantly higher average ratings than movies that are less popular."
   ]
  },
  {
   "cell_type": "code",
   "execution_count": 3,
   "id": "0fee9e60-d462-4228-88b7-b8113082200b",
   "metadata": {
    "colab": {
     "base_uri": "https://localhost:8080/"
    },
    "id": "0fee9e60-d462-4228-88b7-b8113082200b",
    "outputId": "d4ed7ea9-5ff6-4bce-e306-748e408535ce",
    "scrolled": true
   },
   "outputs": [
    {
     "data": {
      "text/plain": [
       "Best Laid Plans (1999)         54\n",
       "The Final Conflict (1981)      55\n",
       "FeardotCom (2002)              56\n",
       "Sexy Beast (2000)              56\n",
       "Stir Crazy (1980)              59\n",
       "                             ... \n",
       "Monsters  Inc.(2001)          927\n",
       "The Lion King (1994)          937\n",
       "Shrek 2 (2004)                965\n",
       "Shrek (2001)                 1008\n",
       "Finding Nemo (2003)          1014\n",
       "Length: 400, dtype: int64"
      ]
     },
     "execution_count": 3,
     "metadata": {},
     "output_type": "execute_result"
    }
   ],
   "source": [
    "# Count # of ratings for each movies\n",
    "ratings_count = data.iloc[:, 0:400].count()\n",
    "ratings_count.sort_values()"
   ]
  },
  {
   "cell_type": "code",
   "execution_count": 4,
   "id": "498aeb31-c456-4969-a767-fbfbbb1b144b",
   "metadata": {
    "colab": {
     "base_uri": "https://localhost:8080/"
    },
    "id": "498aeb31-c456-4969-a767-fbfbbb1b144b",
    "outputId": "ad6ea362-50ca-47fc-fed3-56a5b602a2ec",
    "tags": []
   },
   "outputs": [
    {
     "data": {
      "text/plain": [
       "The Life of David Gale (2003)                2.151316\n",
       "Wing Commander (1999)                        2.021127\n",
       "Django Unchained (2012)                      3.153422\n",
       "Alien (1979)                                 2.707612\n",
       "Indiana Jones and the Last Crusade (1989)    2.778618\n",
       "                                               ...   \n",
       "Patton (1970)                                2.278689\n",
       "Anaconda (1997)                              2.295455\n",
       "Twister (1996)                               2.402299\n",
       "MacArthur (1977)                             2.114754\n",
       "Look Who's Talking (1989)                    2.337963\n",
       "Length: 400, dtype: float64"
      ]
     },
     "execution_count": 4,
     "metadata": {},
     "output_type": "execute_result"
    }
   ],
   "source": [
    "# Automatically deals with null values by reomving them from calculation\n",
    "average_ratings = data.iloc[:, 0:400].mean(axis=0)\n",
    "average_ratings"
   ]
  },
  {
   "cell_type": "code",
   "execution_count": 5,
   "id": "66299de5-6193-4c1b-a74e-d199c8ad101e",
   "metadata": {
    "colab": {
     "base_uri": "https://localhost:8080/",
     "height": 424
    },
    "id": "66299de5-6193-4c1b-a74e-d199c8ad101e",
    "outputId": "37693a43-1f0a-4cc5-c827-85027c4f349d",
    "tags": []
   },
   "outputs": [
    {
     "data": {
      "text/html": [
       "<div>\n",
       "<style scoped>\n",
       "    .dataframe tbody tr th:only-of-type {\n",
       "        vertical-align: middle;\n",
       "    }\n",
       "\n",
       "    .dataframe tbody tr th {\n",
       "        vertical-align: top;\n",
       "    }\n",
       "\n",
       "    .dataframe thead th {\n",
       "        text-align: right;\n",
       "    }\n",
       "</style>\n",
       "<table border=\"1\" class=\"dataframe\">\n",
       "  <thead>\n",
       "    <tr style=\"text-align: right;\">\n",
       "      <th></th>\n",
       "      <th>Movie Name</th>\n",
       "      <th>ratings_count</th>\n",
       "      <th>average_rating</th>\n",
       "    </tr>\n",
       "  </thead>\n",
       "  <tbody>\n",
       "    <tr>\n",
       "      <th>249</th>\n",
       "      <td>Best Laid Plans (1999)</td>\n",
       "      <td>54</td>\n",
       "      <td>2.046296</td>\n",
       "    </tr>\n",
       "    <tr>\n",
       "      <th>334</th>\n",
       "      <td>The Final Conflict (1981)</td>\n",
       "      <td>55</td>\n",
       "      <td>2.309091</td>\n",
       "    </tr>\n",
       "    <tr>\n",
       "      <th>346</th>\n",
       "      <td>FeardotCom (2002)</td>\n",
       "      <td>56</td>\n",
       "      <td>2.205357</td>\n",
       "    </tr>\n",
       "    <tr>\n",
       "      <th>109</th>\n",
       "      <td>Sexy Beast (2000)</td>\n",
       "      <td>56</td>\n",
       "      <td>2.232143</td>\n",
       "    </tr>\n",
       "    <tr>\n",
       "      <th>133</th>\n",
       "      <td>Stir Crazy (1980)</td>\n",
       "      <td>59</td>\n",
       "      <td>2.194915</td>\n",
       "    </tr>\n",
       "    <tr>\n",
       "      <th>...</th>\n",
       "      <td>...</td>\n",
       "      <td>...</td>\n",
       "      <td>...</td>\n",
       "    </tr>\n",
       "    <tr>\n",
       "      <th>267</th>\n",
       "      <td>Monsters  Inc.(2001)</td>\n",
       "      <td>927</td>\n",
       "      <td>3.352211</td>\n",
       "    </tr>\n",
       "    <tr>\n",
       "      <th>220</th>\n",
       "      <td>The Lion King (1994)</td>\n",
       "      <td>937</td>\n",
       "      <td>3.459979</td>\n",
       "    </tr>\n",
       "    <tr>\n",
       "      <th>57</th>\n",
       "      <td>Shrek 2 (2004)</td>\n",
       "      <td>965</td>\n",
       "      <td>2.825907</td>\n",
       "    </tr>\n",
       "    <tr>\n",
       "      <th>87</th>\n",
       "      <td>Shrek (2001)</td>\n",
       "      <td>1008</td>\n",
       "      <td>3.133929</td>\n",
       "    </tr>\n",
       "    <tr>\n",
       "      <th>138</th>\n",
       "      <td>Finding Nemo (2003)</td>\n",
       "      <td>1014</td>\n",
       "      <td>3.388067</td>\n",
       "    </tr>\n",
       "  </tbody>\n",
       "</table>\n",
       "<p>400 rows × 3 columns</p>\n",
       "</div>"
      ],
      "text/plain": [
       "                    Movie Name  ratings_count  average_rating\n",
       "249     Best Laid Plans (1999)             54        2.046296\n",
       "334  The Final Conflict (1981)             55        2.309091\n",
       "346          FeardotCom (2002)             56        2.205357\n",
       "109          Sexy Beast (2000)             56        2.232143\n",
       "133          Stir Crazy (1980)             59        2.194915\n",
       "..                         ...            ...             ...\n",
       "267       Monsters  Inc.(2001)            927        3.352211\n",
       "220       The Lion King (1994)            937        3.459979\n",
       "57              Shrek 2 (2004)            965        2.825907\n",
       "87                Shrek (2001)           1008        3.133929\n",
       "138        Finding Nemo (2003)           1014        3.388067\n",
       "\n",
       "[400 rows x 3 columns]"
      ]
     },
     "execution_count": 5,
     "metadata": {},
     "output_type": "execute_result"
    }
   ],
   "source": [
    "ratings_count_df = pd.DataFrame({'Movie Name': ratings_count.index, 'ratings_count': ratings_count})\n",
    "# Create a DataFrame for average_ratings with the movie names as the index\n",
    "average_ratings_df = pd.DataFrame({'Movie Name': average_ratings.index, 'average_rating': average_ratings})\n",
    "# Merge the two DataFrames based on the 'Movie Name' column\n",
    "df = pd.merge(ratings_count_df, average_ratings_df, on='Movie Name')\n",
    "df = df.sort_values(by=\"ratings_count\")\n",
    "df"
   ]
  },
  {
   "cell_type": "code",
   "execution_count": 6,
   "id": "de31489f-bc4b-4a27-b51f-47ffd5d2da5c",
   "metadata": {
    "colab": {
     "base_uri": "https://localhost:8080/"
    },
    "id": "de31489f-bc4b-4a27-b51f-47ffd5d2da5c",
    "outputId": "0e1e668c-06a0-412a-82db-035649830153",
    "tags": []
   },
   "outputs": [
    {
     "data": {
      "text/plain": [
       "197.5"
      ]
     },
     "execution_count": 6,
     "metadata": {},
     "output_type": "execute_result"
    }
   ],
   "source": [
    "# Finding the median of ratings count\n",
    "median_ratings_count = df['ratings_count'].median()\n",
    "median_ratings_count"
   ]
  },
  {
   "cell_type": "code",
   "execution_count": 7,
   "id": "a6ccfdf9-dd66-4f67-9066-6b56ddaec9ba",
   "metadata": {
    "id": "a6ccfdf9-dd66-4f67-9066-6b56ddaec9ba",
    "tags": []
   },
   "outputs": [],
   "source": [
    "# Split into two groups\n",
    "high_popularity_movies = df[df['ratings_count'] >= median_ratings_count]\n",
    "low_popularity_movies = df[df['ratings_count'] < median_ratings_count]"
   ]
  },
  {
   "cell_type": "code",
   "execution_count": 8,
   "id": "2d71e94a-58c8-474f-81e8-8901ed159fc8",
   "metadata": {
    "colab": {
     "base_uri": "https://localhost:8080/",
     "height": 564
    },
    "id": "2d71e94a-58c8-474f-81e8-8901ed159fc8",
    "outputId": "6db6ccba-f9eb-4fc1-adb6-43ebf9cc4862",
    "tags": []
   },
   "outputs": [
    {
     "data": {
      "image/png": "[encoded data removed]",
      "text/plain": [
       "<Figure size 1000x600 with 1 Axes>"
      ]
     },
     "metadata": {},
     "output_type": "display_data"
    }
   ],
   "source": [
    "# Scatter Plot\n",
    "plt.figure(figsize=(10, 6))\n",
    "sns.scatterplot(data=df, x='ratings_count', y='average_rating', color='blue')\n",
    "plt.xlabel(\"Ratings Count\")\n",
    "plt.ylabel(\"Average Rating\")\n",
    "plt.title(\"Scatter Plot of Ratings Count vs. Average Rating\")\n",
    "plt.axvline(x=median_ratings_count, color='red', linestyle='--', label=f'Median Ratings Count ({median_ratings_count})')\n",
    "plt.legend()\n",
    "plt.show()"
   ]
  },
  {
   "cell_type": "markdown",
   "id": "baa6ab06",
   "metadata": {},
   "source": [
    "Here from the scatter plot we can already get a general idea that movies with higher counts tend to have higher average ratings. Furthur statistic tests are required to see if it is statistically significant."
   ]
  },
  {
   "cell_type": "code",
   "execution_count": 9,
   "id": "d03473b3-9419-40c0-8b50-d3369b384d6d",
   "metadata": {
    "id": "d03473b3-9419-40c0-8b50-d3369b384d6d",
    "tags": []
   },
   "outputs": [],
   "source": [
    "# Split into two groups for statistic tests\n",
    "group1 = df[df['ratings_count'] >= median_ratings_count]['average_rating']\n",
    "group2 = df[df['ratings_count'] < median_ratings_count]['average_rating']"
   ]
  },
  {
   "cell_type": "code",
   "execution_count": 10,
   "id": "35ef5a03",
   "metadata": {
    "colab": {
     "base_uri": "https://localhost:8080/",
     "height": 519
    },
    "id": "c81c4a3b-0ab8-483a-b9ba-93d0e24782a5",
    "outputId": "4115872e-28c2-4ba2-f1e4-6ca0097394c4",
    "scrolled": false,
    "tags": []
   },
   "outputs": [
    {
     "data": {
      "text/plain": [
       "(array([0.24281365, 0.51800245, 0.93887944, 1.11694278, 1.00362975,\n",
       "        0.79319125, 0.53419003, 0.79319125, 0.38850184, 0.14568819]),\n",
       " array([1.91558442, 2.07002384, 2.22446326, 2.37890269, 2.53334211,\n",
       "        2.68778154, 2.84222096, 2.99666038, 3.15109981, 3.30553923,\n",
       "        3.45997866]),\n",
       " <BarContainer object of 10 artists>)"
      ]
     },
     "execution_count": 10,
     "metadata": {},
     "output_type": "execute_result"
    },
    {
     "data": {
      "image/png": "[encoded data removed]",
      "text/plain": [
       "<Figure size 640x480 with 1 Axes>"
      ]
     },
     "metadata": {},
     "output_type": "display_data"
    }
   ],
   "source": [
    "# plot to see the distribution of each dataset\n",
    "plt.hist(group2, alpha=0.5,density = True)\n",
    "plt.hist(group1, alpha = 0.5,density = True)\n",
    "plt.hist(df['average_rating'], alpha=0.5,density = True)"
   ]
  },
  {
   "cell_type": "markdown",
   "id": "6b36ec8f",
   "metadata": {},
   "source": [
    "K-S test to confirm the normaility of our datasets"
   ]
  },
  {
   "cell_type": "code",
   "execution_count": 11,
   "id": "7949fd8a",
   "metadata": {},
   "outputs": [
    {
     "name": "stdout",
     "output_type": "stream",
     "text": [
      "group1: K-S statistic = 0.07204, p-value = 0.23864\n",
      "Group 1 is Gaussian.\n",
      "group2: K-S statistic = 0.05459, p-value = 0.57135\n",
      "Group 2 is Gaussian.\n"
     ]
    }
   ],
   "source": [
    "# Compute mean and standard deviation of group1\n",
    "mean1, std1 = np.mean(group1), np.std(group1)\n",
    "# K-S test for normality on group1\n",
    "statistic1, pvalue1 = kstest(group1, 'norm', args=(mean1, std1))\n",
    "print(f\"group1: K-S statistic = {statistic1:.5f}, p-value = {pvalue1:.5f}\")\n",
    "if pvalue1 > 0.05:\n",
    "    print(f\"Group 1 is Gaussian.\")\n",
    "else:\n",
    "    print(f'Group 1 is not Gaussian.')\n",
    "\n",
    "# Compute mean and standard deviation of group2\n",
    "mean2, std2 = np.mean(group2), np.std(group2)\n",
    "\n",
    "# K-S test for normality on group2\n",
    "statistic2, pvalue2 = kstest(group2, 'norm', args=(mean2, std2))\n",
    "print(f\"group2: K-S statistic = {statistic2:.5f}, p-value = {pvalue2:.5f}\")\n",
    "if pvalue2 > 0.05:\n",
    "    print(f\"Group 2 is Gaussian.\")\n",
    "else:\n",
    "    print(f'Group 2 is not Gaussian.')"
   ]
  },
  {
   "cell_type": "markdown",
   "id": "1d7525b3",
   "metadata": {},
   "source": [
    "Our data sets are normally distributed given the result of K-S test, we perform levene's test to confirm if our data sets meet homogeneity of the variance."
   ]
  },
  {
   "cell_type": "code",
   "execution_count": 12,
   "id": "16f03a8c",
   "metadata": {},
   "outputs": [
    {
     "name": "stdout",
     "output_type": "stream",
     "text": [
      "Levene's Test Statistic: 12.924660098096007\n",
      "P-value: 0.0003650086478858589\n",
      "Reject the null hypothesis - Variances are not equal across all groups.\n"
     ]
    }
   ],
   "source": [
    "# Perform Levene's test\n",
    "statistic, pvalue = levene(group1, group2)\n",
    "\n",
    "print(f\"Levene's Test Statistic: {statistic}\")\n",
    "print(f\"P-value: {pvalue}\")\n",
    "\n",
    "if pvalue > 0.05:\n",
    "    print(\"Fail to reject the null hypothesis - Variances are equal across all groups.\")\n",
    "else:\n",
    "    print(\"Reject the null hypothesis - Variances are not equal across all groups.\")"
   ]
  },
  {
   "cell_type": "markdown",
   "id": "4a123679",
   "metadata": {},
   "source": [
    "Since our data sets do not meet the homogeneity of the variance, we should perform a Welch's t-test that gives us more statistical power."
   ]
  },
  {
   "cell_type": "code",
   "execution_count": 13,
   "id": "4a5c0104",
   "metadata": {},
   "outputs": [
    {
     "name": "stdout",
     "output_type": "stream",
     "text": [
      "T-Statistic: 17.756049269873714\n",
      "P-Value: 9.536936590851687e-52\n",
      "High popularity movies have significantly higher average ratings.\n"
     ]
    }
   ],
   "source": [
    "#perform a Welch's t-test \n",
    "\n",
    "t_stat, p_value = ttest_ind(group1, group2, equal_var=False)\n",
    "\n",
    "print(f\"T-Statistic: {t_stat}\")\n",
    "print(f\"P-Value: {p_value}\")\n",
    "alpha = 0.005\n",
    "if p_value < alpha:\n",
    "    print(\"High popularity movies have significantly higher average ratings.\")\n",
    "else:\n",
    "    print(\"There is no significant difference in average ratings between high and low popularity movies.\")"
   ]
  },
  {
   "cell_type": "markdown",
   "id": "8da1f2be",
   "metadata": {
    "id": "e970363e-f013-4355-8c9b-8a3ef12684d8"
   },
   "source": [
    "# Q2: Are movies that are newer rated differently than movies that are older?\n"
   ]
  },
  {
   "cell_type": "markdown",
   "id": "9988f0e0",
   "metadata": {},
   "source": [
    "We did a K-S test to see if the ratings of both groups followed a normal distribution, the test result suggested that our data is normally distributed. The Leven's test suggests equal variances for our data sets. Therefore, we conducted an independent samples t-test that works best in this case. It returned a T-Statistic: 1.605479609469516\n",
    "P-Value: 0.10918141397981912. Given our alpha level of 0.005, we failed to reject the null hypothesis and concluded that there is no significant difference between the ratings of newer and older movies."
   ]
  },
  {
   "cell_type": "code",
   "execution_count": 14,
   "id": "076326f4-c665-4364-9470-c24104df0917",
   "metadata": {
    "id": "076326f4-c665-4364-9470-c24104df0917",
    "tags": []
   },
   "outputs": [],
   "source": [
    "# Extract Year from the movie title\n",
    "movie_list = []\n",
    "year_list =[]\n",
    "for movie in (data.iloc[:, 0:400].columns):\n",
    "    match = re.search(r'\\((\\d{4})\\)$', movie)\n",
    "    year = match.group(1)\n",
    "    movie_list.append(movie)\n",
    "    year_list.append(year)"
   ]
  },
  {
   "cell_type": "code",
   "execution_count": 15,
   "id": "64a0d1e9-c386-46d3-9bcf-54836b42198b",
   "metadata": {
    "colab": {
     "base_uri": "https://localhost:8080/",
     "height": 424
    },
    "id": "64a0d1e9-c386-46d3-9bcf-54836b42198b",
    "outputId": "131dd177-dce0-4413-979e-63196ee8d246",
    "tags": []
   },
   "outputs": [
    {
     "data": {
      "text/html": [
       "<div>\n",
       "<style scoped>\n",
       "    .dataframe tbody tr th:only-of-type {\n",
       "        vertical-align: middle;\n",
       "    }\n",
       "\n",
       "    .dataframe tbody tr th {\n",
       "        vertical-align: top;\n",
       "    }\n",
       "\n",
       "    .dataframe thead th {\n",
       "        text-align: right;\n",
       "    }\n",
       "</style>\n",
       "<table border=\"1\" class=\"dataframe\">\n",
       "  <thead>\n",
       "    <tr style=\"text-align: right;\">\n",
       "      <th></th>\n",
       "      <th>Movie Name</th>\n",
       "      <th>year</th>\n",
       "      <th>average_rating</th>\n",
       "    </tr>\n",
       "  </thead>\n",
       "  <tbody>\n",
       "    <tr>\n",
       "      <th>17</th>\n",
       "      <td>Psycho (1960)</td>\n",
       "      <td>1960</td>\n",
       "      <td>2.925770</td>\n",
       "    </tr>\n",
       "    <tr>\n",
       "      <th>122</th>\n",
       "      <td>The Good the Bad and the Ugly (1966)</td>\n",
       "      <td>1966</td>\n",
       "      <td>2.787293</td>\n",
       "    </tr>\n",
       "    <tr>\n",
       "      <th>135</th>\n",
       "      <td>The Silencers (1966)</td>\n",
       "      <td>1966</td>\n",
       "      <td>2.230769</td>\n",
       "    </tr>\n",
       "    <tr>\n",
       "      <th>162</th>\n",
       "      <td>Who's Afraid of Virginia Woolf (1966)</td>\n",
       "      <td>1966</td>\n",
       "      <td>2.642276</td>\n",
       "    </tr>\n",
       "    <tr>\n",
       "      <th>268</th>\n",
       "      <td>Thoroughly Modern Millie (1967)</td>\n",
       "      <td>1967</td>\n",
       "      <td>2.372549</td>\n",
       "    </tr>\n",
       "    <tr>\n",
       "      <th>...</th>\n",
       "      <td>...</td>\n",
       "      <td>...</td>\n",
       "      <td>...</td>\n",
       "    </tr>\n",
       "    <tr>\n",
       "      <th>371</th>\n",
       "      <td>Captain America: Civil War (2016)</td>\n",
       "      <td>2016</td>\n",
       "      <td>3.058550</td>\n",
       "    </tr>\n",
       "    <tr>\n",
       "      <th>259</th>\n",
       "      <td>Ouija: Origin of Evil (2016)</td>\n",
       "      <td>2016</td>\n",
       "      <td>2.073604</td>\n",
       "    </tr>\n",
       "    <tr>\n",
       "      <th>225</th>\n",
       "      <td>Split (2016)</td>\n",
       "      <td>2016</td>\n",
       "      <td>2.936455</td>\n",
       "    </tr>\n",
       "    <tr>\n",
       "      <th>319</th>\n",
       "      <td>La La Land (2016)</td>\n",
       "      <td>2016</td>\n",
       "      <td>3.003584</td>\n",
       "    </tr>\n",
       "    <tr>\n",
       "      <th>149</th>\n",
       "      <td>Ghostbusters (2016)</td>\n",
       "      <td>2016</td>\n",
       "      <td>2.537594</td>\n",
       "    </tr>\n",
       "  </tbody>\n",
       "</table>\n",
       "<p>400 rows × 3 columns</p>\n",
       "</div>"
      ],
      "text/plain": [
       "                                Movie Name  year  average_rating\n",
       "17                           Psycho (1960)  1960        2.925770\n",
       "122   The Good the Bad and the Ugly (1966)  1966        2.787293\n",
       "135                   The Silencers (1966)  1966        2.230769\n",
       "162  Who's Afraid of Virginia Woolf (1966)  1966        2.642276\n",
       "268        Thoroughly Modern Millie (1967)  1967        2.372549\n",
       "..                                     ...   ...             ...\n",
       "371      Captain America: Civil War (2016)  2016        3.058550\n",
       "259           Ouija: Origin of Evil (2016)  2016        2.073604\n",
       "225                           Split (2016)  2016        2.936455\n",
       "319                      La La Land (2016)  2016        3.003584\n",
       "149                    Ghostbusters (2016)  2016        2.537594\n",
       "\n",
       "[400 rows x 3 columns]"
      ]
     },
     "execution_count": 15,
     "metadata": {},
     "output_type": "execute_result"
    }
   ],
   "source": [
    "# Merging two dfs to get a df with year and matched average rating.\n",
    "year_df = pd.DataFrame({'Movie Name': movie_list, 'year': year_list})\n",
    "q2_df = pd.merge(year_df, average_ratings_df, on='Movie Name')\n",
    "q2_df = q2_df.sort_values(by=\"year\")\n",
    "q2_df"
   ]
  },
  {
   "cell_type": "code",
   "execution_count": 16,
   "id": "13e057ad-10e8-4388-945f-0d74893c318c",
   "metadata": {
    "id": "13e057ad-10e8-4388-945f-0d74893c318c",
    "tags": []
   },
   "outputs": [
    {
     "data": {
      "text/plain": [
       "1999"
      ]
     },
     "execution_count": 16,
     "metadata": {},
     "output_type": "execute_result"
    }
   ],
   "source": [
    "# Getting the year median\n",
    "median_year = q2_df['year'].median()\n",
    "median_year = median_year.astype(int)\n",
    "median_year"
   ]
  },
  {
   "cell_type": "code",
   "execution_count": 17,
   "id": "7b64cdf9-e6fb-45ac-b499-22dd50f9c360",
   "metadata": {
    "id": "7b64cdf9-e6fb-45ac-b499-22dd50f9c360",
    "tags": []
   },
   "outputs": [],
   "source": [
    "# Converting year in df to int\n",
    "q2_df['year'] = q2_df['year'].astype(int)"
   ]
  },
  {
   "cell_type": "code",
   "execution_count": 18,
   "id": "a7961666-9ad6-4007-b3a2-f293b0b41b25",
   "metadata": {
    "colab": {
     "base_uri": "https://localhost:8080/",
     "height": 558
    },
    "id": "a7961666-9ad6-4007-b3a2-f293b0b41b25",
    "outputId": "05da2199-c55c-4b00-d793-b32bd480e152",
    "tags": []
   },
   "outputs": [
    {
     "data": {
      "image/png": "[encoded data removed]",
      "text/plain": [
       "<Figure size 1000x600 with 1 Axes>"
      ]
     },
     "metadata": {},
     "output_type": "display_data"
    }
   ],
   "source": [
    "# Scatter Plot to get a general idea of our df\n",
    "plt.figure(figsize=(10, 6))\n",
    "sns.scatterplot(data=q2_df, x='year', y='average_rating', color='blue')\n",
    "plt.xlabel(\"Year of Release\")\n",
    "plt.ylabel(\"Average Rating\")\n",
    "plt.title(\"Scatter Plot of Release Year vs. Average Rating\")\n",
    "plt.axvline(x=median_year, color='red', linestyle='--', label=f'Median Ratings Count ({median_year})')\n",
    "plt.legend()\n",
    "plt.show()"
   ]
  },
  {
   "cell_type": "code",
   "execution_count": 19,
   "id": "55e34f09",
   "metadata": {},
   "outputs": [
    {
     "data": {
      "text/plain": [
       "(219    2.635000\n",
       " 215    2.432099\n",
       " 386    2.520979\n",
       " 287    2.257576\n",
       " 224    2.155000\n",
       "          ...   \n",
       " 371    3.058550\n",
       " 259    2.073604\n",
       " 225    2.936455\n",
       " 319    3.003584\n",
       " 149    2.537594\n",
       " Name: average_rating, Length: 203, dtype: float64,\n",
       " 17     2.925770\n",
       " 122    2.787293\n",
       " 135    2.230769\n",
       " 162    2.642276\n",
       " 268    2.372549\n",
       "          ...   \n",
       " 305    2.955607\n",
       " 155    2.406250\n",
       " 345    2.782258\n",
       " 177    3.140878\n",
       " 130    2.572254\n",
       " Name: average_rating, Length: 197, dtype: float64)"
      ]
     },
     "execution_count": 19,
     "metadata": {},
     "output_type": "execute_result"
    }
   ],
   "source": [
    "# Split into two groups for statistic tests\n",
    "group1 = q2_df[q2_df['year'] >= median_year]['average_rating']\n",
    "group2 = q2_df[q2_df['year'] < median_year]['average_rating']\n",
    "group1,group2"
   ]
  },
  {
   "cell_type": "markdown",
   "id": "53e94d73",
   "metadata": {},
   "source": [
    "K-S test to confirm normality."
   ]
  },
  {
   "cell_type": "code",
   "execution_count": 20,
   "id": "2KFHkHUFNYUs",
   "metadata": {
    "colab": {
     "base_uri": "https://localhost:8080/"
    },
    "id": "2KFHkHUFNYUs",
    "outputId": "8f081b87-6e59-4050-e7d3-ac1f1f545923"
   },
   "outputs": [
    {
     "name": "stdout",
     "output_type": "stream",
     "text": [
      "group1: K-S statistic = 0.06311, p-value = 0.37823\n",
      "Group 1 is Gaussian.\n",
      "group2: K-S statistic = 0.08365, p-value = 0.11994\n",
      "Group 2 is Gaussian.\n"
     ]
    }
   ],
   "source": [
    "# Compute mean and standard deviation of group1\n",
    "mean1, std1 = np.mean(group1), np.std(group1)\n",
    "# K-S test for normality on group1\n",
    "statistic1, pvalue1 = kstest(group1, 'norm', args=(mean1, std1))\n",
    "print(f\"group1: K-S statistic = {statistic1:.5f}, p-value = {pvalue1:.5f}\")\n",
    "if pvalue1 > 0.05:\n",
    "    print(f\"Group 1 is Gaussian.\")\n",
    "else:\n",
    "    print(f'Group 1 is not Gaussian.')\n",
    "\n",
    "# Compute mean and standard deviation of group2\n",
    "mean2, std2 = np.mean(group2), np.std(group2)\n",
    "\n",
    "# K-S test for normality on group2\n",
    "statistic2, pvalue2 = kstest(group2, 'norm', args=(mean2, std2))\n",
    "print(f\"group2: K-S statistic = {statistic2:.5f}, p-value = {pvalue2:.5f}\")\n",
    "if pvalue2 > 0.05:\n",
    "    print(f\"Group 2 is Gaussian.\")\n",
    "else:\n",
    "    print(f'Group 2 is not Gaussian.')"
   ]
  },
  {
   "cell_type": "code",
   "execution_count": 21,
   "id": "MN2HoKorO6Cd",
   "metadata": {
    "colab": {
     "base_uri": "https://localhost:8080/",
     "height": 517
    },
    "id": "MN2HoKorO6Cd",
    "outputId": "eac7bea7-4e64-4745-9a04-7cbdb25f8ca8"
   },
   "outputs": [
    {
     "data": {
      "text/plain": [
       "<matplotlib.legend.Legend at 0x15b61c890>"
      ]
     },
     "execution_count": 21,
     "metadata": {},
     "output_type": "execute_result"
    },
    {
     "data": {
      "image/png": "[encoded data removed]",
      "text/plain": [
       "<Figure size 640x480 with 1 Axes>"
      ]
     },
     "metadata": {},
     "output_type": "display_data"
    }
   ],
   "source": [
    "plt.hist(group1,alpha = 0.5,label = 'newer movies',density = True)\n",
    "plt.hist(group2,alpha = 0.5, label = 'older movies',density = True)\n",
    "plt.legend()"
   ]
  },
  {
   "cell_type": "markdown",
   "id": "a43041c9",
   "metadata": {},
   "source": [
    "data sets are Gaussian, perform Levene's test to confirm equal variances."
   ]
  },
  {
   "cell_type": "code",
   "execution_count": 22,
   "id": "8de42667",
   "metadata": {},
   "outputs": [
    {
     "name": "stdout",
     "output_type": "stream",
     "text": [
      "Levene's Test Statistic: 1.6620802393442529\n",
      "P-value: 0.1980714428132103\n",
      "Fail to reject the null hypothesis - Variances are equal across all groups.\n"
     ]
    }
   ],
   "source": [
    "# Perform Levene's test\n",
    "statistic, pvalue = levene(group1, group2)\n",
    "\n",
    "print(f\"Levene's Test Statistic: {statistic}\")\n",
    "print(f\"P-value: {pvalue}\")\n",
    "\n",
    "if pvalue > 0.05:\n",
    "    print(\"Fail to reject the null hypothesis - Variances are equal across all groups.\")\n",
    "else:\n",
    "    print(\"Reject the null hypothesis - Variances are not equal across all groups.\")"
   ]
  },
  {
   "cell_type": "markdown",
   "id": "5f8b24dd",
   "metadata": {},
   "source": [
    "The variances are euqal in our two datasets, perform an independent samples t-test."
   ]
  },
  {
   "cell_type": "code",
   "execution_count": 23,
   "id": "ae7217a4-e2e0-4a61-ab7b-ccbae1806ea8",
   "metadata": {
    "colab": {
     "base_uri": "https://localhost:8080/"
    },
    "id": "ae7217a4-e2e0-4a61-ab7b-ccbae1806ea8",
    "outputId": "7b5ace98-92cb-4962-b285-952305a7ed9e",
    "tags": []
   },
   "outputs": [
    {
     "name": "stdout",
     "output_type": "stream",
     "text": [
      "T-Statistic: 1.605479609469516\n",
      "P-Value: 0.10918141397981912\n",
      "There is no significant difference in average ratings between newer and older movies.\n"
     ]
    }
   ],
   "source": [
    "#perform a independent samples t-test.\n",
    "\n",
    "t_stat, p_value = ttest_ind(group1, group2, equal_var=True)\n",
    "print(f\"T-Statistic: {t_stat}\")\n",
    "print(f\"P-Value: {p_value}\")\n",
    "alpha = 0.005\n",
    "if p_value < alpha:\n",
    "    print(\"Newer movies have significantly higher average ratings.\")\n",
    "else:\n",
    "    print(\"There is no significant difference in average ratings between newer and older movies.\")"
   ]
  },
  {
   "cell_type": "markdown",
   "id": "b12876b1",
   "metadata": {
    "id": "hSLYrh_vIdke"
   },
   "source": [
    "# Q3: Is enjoyment of ‘Shrek (2001)’ gendered, i.e. do male and female viewers rate it differently?"
   ]
  },
  {
   "cell_type": "code",
   "execution_count": 24,
   "id": "d3f2f021-c7e4-4df9-bdbb-bfbbb179b6a2",
   "metadata": {
    "id": "d3f2f021-c7e4-4df9-bdbb-bfbbb179b6a2",
    "tags": []
   },
   "outputs": [],
   "source": [
    "shrek_df = data[['Shrek (2001)','Gender identity (1 = female; 2 = male; 3 = self-described)']]"
   ]
  },
  {
   "cell_type": "code",
   "execution_count": 25,
   "id": "3ad2b295-d2ac-4371-a445-b3e3919b124b",
   "metadata": {
    "colab": {
     "base_uri": "https://localhost:8080/"
    },
    "id": "3ad2b295-d2ac-4371-a445-b3e3919b124b",
    "outputId": "54f2f2b8-fb4b-4731-dcc0-faf9a68e3928",
    "tags": []
   },
   "outputs": [
    {
     "data": {
      "text/plain": [
       "3.1339285714285716"
      ]
     },
     "execution_count": 25,
     "metadata": {},
     "output_type": "execute_result"
    }
   ],
   "source": [
    "mean_rating = shrek_df['Shrek (2001)'].mean()\n",
    "mean_rating"
   ]
  },
  {
   "cell_type": "code",
   "execution_count": 26,
   "id": "6984f8c2-c426-40cd-906d-bb1bf4f915f2",
   "metadata": {
    "id": "6984f8c2-c426-40cd-906d-bb1bf4f915f2",
    "tags": []
   },
   "outputs": [
    {
     "data": {
      "text/plain": [
       "(0       3.0\n",
       " 1       3.0\n",
       " 2       3.5\n",
       " 3       0.5\n",
       " 4       3.0\n",
       "        ... \n",
       " 1092    3.0\n",
       " 1093    4.0\n",
       " 1094    3.5\n",
       " 1095    2.5\n",
       " 1096    2.0\n",
       " Name: Shrek (2001), Length: 743, dtype: float64,\n",
       " 9       4.0\n",
       " 13      3.0\n",
       " 15      3.5\n",
       " 19      2.0\n",
       " 22      3.0\n",
       "        ... \n",
       " 1082    4.0\n",
       " 1084    1.0\n",
       " 1088    2.5\n",
       " 1089    3.0\n",
       " 1090    3.0\n",
       " Name: Shrek (2001), Length: 241, dtype: float64)"
      ]
     },
     "execution_count": 26,
     "metadata": {},
     "output_type": "execute_result"
    }
   ],
   "source": [
    "shrek_f_df=shrek_df[shrek_df['Gender identity (1 = female; 2 = male; 3 = self-described)']==1.0]\n",
    "shrek_m_df=shrek_df[shrek_df['Gender identity (1 = female; 2 = male; 3 = self-described)']==2.0]\n",
    "group1 = shrek_f_df['Shrek (2001)'].dropna()\n",
    "group2 = shrek_m_df['Shrek (2001)'].dropna()\n",
    "group1,group2"
   ]
  },
  {
   "cell_type": "code",
   "execution_count": 27,
   "id": "8126278e",
   "metadata": {},
   "outputs": [
    {
     "data": {
      "text/plain": [
       "<matplotlib.legend.Legend at 0x15c172190>"
      ]
     },
     "execution_count": 27,
     "metadata": {},
     "output_type": "execute_result"
    },
    {
     "data": {
      "image/png": "[encoded data removed]",
      "text/plain": [
       "<Figure size 640x480 with 1 Axes>"
      ]
     },
     "metadata": {},
     "output_type": "display_data"
    }
   ],
   "source": [
    "plt.hist(group1,alpha = 0.5,label = 'newer movies',density=True)\n",
    "plt.hist(group2,alpha = 0.5, label = 'older movies',density=True)\n",
    "plt.legend()"
   ]
  },
  {
   "cell_type": "markdown",
   "id": "445f64f6",
   "metadata": {},
   "source": [
    "From the histogram we can see that our data is clearly not normally distributed."
   ]
  },
  {
   "cell_type": "code",
   "execution_count": 28,
   "id": "CACNOxnCIrig",
   "metadata": {
    "colab": {
     "base_uri": "https://localhost:8080/"
    },
    "id": "CACNOxnCIrig",
    "outputId": "272cf80b-2b48-4a9a-aeb5-f884834c9880"
   },
   "outputs": [
    {
     "name": "stdout",
     "output_type": "stream",
     "text": [
      "Mann-Whitney U Statistic: 96830.5\n",
      "p-value: 0.050536625925559006\n",
      "Enjoyment of ‘Shrek (2001)’ is not gendered\n"
     ]
    }
   ],
   "source": [
    "# our data is not normally distributed\n",
    "statistic, p_value = mannwhitneyu(group1, group2, alternative='two-sided')\n",
    "\n",
    "# Print the results\n",
    "print(\"Mann-Whitney U Statistic:\", statistic)\n",
    "print(\"p-value:\", p_value)\n",
    "alpha = 0.005\n",
    "if p_value < alpha:\n",
    "    print(\"Enjoyment of ‘Shrek (2001)’ is gendered\")\n",
    "else:\n",
    "    print(\"Enjoyment of ‘Shrek (2001)’ is not gendered\")"
   ]
  },
  {
   "cell_type": "markdown",
   "id": "4c73f5a5",
   "metadata": {
    "id": "edsx8AgMIrkk"
   },
   "source": [
    "Our histogram indicated that neither the male nor female ratings followed a normal distribution. Given this, we opted for the Mann-Whitney U test to compare the two groups. The test yielded a U statistic of 96830.5 and a p-value of 0.05054. Since this p-value exceeds our alpha of 0.005, we failed to reject the null hypothesis and conclude that there is no statistically significant difference in the ratings of 'Shrek (2001)' between male and female viewers. We used an element-wise method to remove the null values that resulted in a different sample size for each group, female: 743, male: 241. While the Mann-Whitney U test does not require sample size, this could reduce the power of our test."
   ]
  },
  {
   "cell_type": "markdown",
   "id": "418f0115",
   "metadata": {
    "id": "wnPZyK9mIrrU"
   },
   "source": [
    "# Q4: What proportion of movies are rated differently by male and female viewers?"
   ]
  },
  {
   "cell_type": "markdown",
   "id": "b22fac38",
   "metadata": {},
   "source": [
    "To find the proportion of movies that are rated differently by male and female viewers, we performed K-S test to confirm the normailty of each movie in our data file. If the data is not normally distributed then a mannwhitneyu test will be conducted. If normally distributed, we will perform a Leven's test to determine if the variances are equal arcoss our data sets. If yes, we will perform an independent samples t-test. If not, we will perform a Welch's test. We ran these tests for all 400 movies in our data file and the outcome shows that 12.75% of the movies are rated differently by male and female viewers."
   ]
  },
  {
   "cell_type": "code",
   "execution_count": 29,
   "id": "debb21a4",
   "metadata": {},
   "outputs": [],
   "source": [
    "# counter for different ratings\n",
    "count_different_ratings = 0"
   ]
  },
  {
   "cell_type": "code",
   "execution_count": 30,
   "id": "0ffeb6d4",
   "metadata": {},
   "outputs": [],
   "source": [
    "count = 0\n",
    "for i in range(1, 401):  # Columns 1-400 are movie ratings\n",
    "    # Extract ratings for the current movie\n",
    "    movie_ratings = data.iloc[:, i-1]\n",
    "\n",
    "    # Extract ratings based on gender\n",
    "    male_ratings = movie_ratings[data['Gender identity (1 = female; 2 = male; 3 = self-described)'] == 2.0].dropna()\n",
    "    female_ratings = movie_ratings[data['Gender identity (1 = female; 2 = male; 3 = self-described)'] == 1.0].dropna()\n",
    "\n",
    "    # Compute the mean and standard deviation of the data\n",
    "    male_mean = np.mean(male_ratings)\n",
    "    male_std = np.std(male_ratings)\n",
    "    \n",
    "    # Perform the KS test\n",
    "    # The 'cdf' parameter is set to 'norm' which stands for the normal distribution.\n",
    "    # The 'args' parameter receives the parameters of the distribution, in this case, the mean and std of the data.\n",
    "    D, p_value_male = kstest(male_ratings, 'norm', args=(male_mean, male_std))\n",
    "\n",
    "    female_mean = np.mean(female_ratings)\n",
    "    female_std = np.std(female_ratings)\n",
    "    D, p_value_fem = kstest(female_ratings, 'norm', args=(female_mean, female_std))\n",
    "\n",
    "    alpha = 0.005\n",
    "    if p_value_fem > alpha and p_value_male > alpha: #null hypothesis: data is normally distributed\n",
    "      count +=1\n",
    "      # Perform t-test\n",
    "      statistic, p_value_var = levene(female_ratings, male_ratings)\n",
    "      if p_value_var < alpha:\n",
    "        t_stat, p_val_ttest = ttest_ind(male_ratings, female_ratings, equal_var=False)\n",
    "        # Check if p-value is less than our alpha level\n",
    "        if p_val_ttest < alpha:\n",
    "            count_different_ratings += 1\n",
    "      else:\n",
    "        t_stat, p_val_ttest = ttest_ind(male_ratings, female_ratings, equal_var=True)\n",
    "        # Check if p-value is less than our alpha level\n",
    "        if p_val_ttest < alpha:\n",
    "            count_different_ratings += 1\n",
    "    else:\n",
    "      statistic, p_value_mw = mannwhitneyu(male_ratings, female_ratings, alternative='two-sided')\n",
    "      if p_value_mw < alpha:\n",
    "        count_different_ratings += 1"
   ]
  },
  {
   "cell_type": "code",
   "execution_count": 31,
   "id": "85982da9",
   "metadata": {},
   "outputs": [
    {
     "name": "stdout",
     "output_type": "stream",
     "text": [
      "12.75% are rated differently by male and female viewers.\n"
     ]
    }
   ],
   "source": [
    "# Calculate the proportion where ratings are gendered.\n",
    "proportion_different_ratings = count_different_ratings / 400 # Total movie = 400\n",
    "print(f'{proportion_different_ratings*100}% are rated differently by male and female viewers.')"
   ]
  },
  {
   "cell_type": "markdown",
   "id": "5aea4ce7",
   "metadata": {},
   "source": [
    "# Q5: Do people who are only children enjoy ‘The Lion King (1994)’ more than people with siblings?"
   ]
  },
  {
   "attachments": {},
   "cell_type": "markdown",
   "id": "39faeefd",
   "metadata": {},
   "source": [
    "To analyze the effect of having or not siblings in the ratings of The Lion King (1994). We performed a Mann-Whitney U-test between two groups because the data was not normally distributed. With a p-value of ~0.97 that exceeds our threshold, we fail to reject the null hypothesis and conclude that the amount of siblings does not affect enjoyment of The Lion King. Since we used element-wise removal of null values, we had a large difference between two groups, this would reduce our statistical power."
   ]
  },
  {
   "cell_type": "code",
   "execution_count": 32,
   "id": "0ePqblzlIrvz",
   "metadata": {
    "id": "0ePqblzlIrvz"
   },
   "outputs": [
    {
     "data": {
      "text/plain": [
       "(2       4.0\n",
       " 4       4.0\n",
       " 5       4.0\n",
       " 22      3.5\n",
       " 33      3.5\n",
       "        ... \n",
       " 1058    3.0\n",
       " 1068    3.5\n",
       " 1075    4.0\n",
       " 1076    3.5\n",
       " 1088    3.0\n",
       " Name: The Lion King (1994), Length: 151, dtype: float64,\n",
       " 0       4.0\n",
       " 3       3.0\n",
       " 6       3.5\n",
       " 7       4.0\n",
       " 8       4.0\n",
       "        ... \n",
       " 1090    3.5\n",
       " 1091    4.0\n",
       " 1092    3.5\n",
       " 1093    3.5\n",
       " 1096    4.0\n",
       " Name: The Lion King (1994), Length: 776, dtype: float64)"
      ]
     },
     "execution_count": 32,
     "metadata": {},
     "output_type": "execute_result"
    }
   ],
   "source": [
    "# Getting the desired data from our df and split into two groups.\n",
    "q5_df = data[['The Lion King (1994)','Are you an only child? (1: Yes; 0: No; -1: Did not respond)']]\n",
    "only_child = q5_df[q5_df['Are you an only child? (1: Yes; 0: No; -1: Did not respond)']==1]\n",
    "have_siblings = q5_df[q5_df['Are you an only child? (1: Yes; 0: No; -1: Did not respond)']==0]\n",
    "group1 = only_child['The Lion King (1994)'].dropna()\n",
    "group2 = have_siblings['The Lion King (1994)'].dropna()\n",
    "group1,group2"
   ]
  },
  {
   "cell_type": "code",
   "execution_count": 33,
   "id": "o7-tuQluIrx1",
   "metadata": {
    "colab": {
     "base_uri": "https://localhost:8080/"
    },
    "id": "o7-tuQluIrx1",
    "outputId": "ecf1a05e-43ad-4eab-c378-0c327a5586f5"
   },
   "outputs": [
    {
     "data": {
      "text/plain": [
       "3.347682119205298"
      ]
     },
     "execution_count": 33,
     "metadata": {},
     "output_type": "execute_result"
    }
   ],
   "source": [
    "only_child['The Lion King (1994)'].mean()"
   ]
  },
  {
   "cell_type": "code",
   "execution_count": 34,
   "id": "OSc_Cf81J1CY",
   "metadata": {
    "colab": {
     "base_uri": "https://localhost:8080/"
    },
    "id": "OSc_Cf81J1CY",
    "outputId": "c7d56f24-2f91-449a-a08a-2bf33e8381a3"
   },
   "outputs": [
    {
     "data": {
      "text/plain": [
       "3.481958762886598"
      ]
     },
     "execution_count": 34,
     "metadata": {},
     "output_type": "execute_result"
    }
   ],
   "source": [
    "have_siblings['The Lion King (1994)'].mean()"
   ]
  },
  {
   "cell_type": "code",
   "execution_count": 35,
   "id": "eawdaH9pJ1HE",
   "metadata": {
    "colab": {
     "base_uri": "https://localhost:8080/",
     "height": 484
    },
    "id": "eawdaH9pJ1HE",
    "outputId": "9b6d58ea-fd32-4505-c891-299f6b20fcae"
   },
   "outputs": [
    {
     "data": {
      "text/plain": [
       "Text(0.5, 1.0, 'Group 2')"
      ]
     },
     "execution_count": 35,
     "metadata": {},
     "output_type": "execute_result"
    },
    {
     "data": {
      "image/png": "[encoded data removed]",
      "text/plain": [
       "<Figure size 640x480 with 2 Axes>"
      ]
     },
     "metadata": {},
     "output_type": "display_data"
    }
   ],
   "source": [
    "# Plot both group to get an general idea of the data.\n",
    "plt.subplot(1,2,1)\n",
    "plt.hist(group2, density=True)\n",
    "plt.title('Group 1')\n",
    "\n",
    "plt.subplot(1,2,2)\n",
    "plt.hist(group1, density=True)\n",
    "plt.title('Group 2')"
   ]
  },
  {
   "cell_type": "code",
   "execution_count": 36,
   "id": "WWNw2J66KK8O",
   "metadata": {
    "colab": {
     "base_uri": "https://localhost:8080/"
    },
    "id": "WWNw2J66KK8O",
    "outputId": "09733a77-6224-4742-b817-f0377a00fe98"
   },
   "outputs": [
    {
     "name": "stdout",
     "output_type": "stream",
     "text": [
      "Mann-Whitney U Statistic: 52929.0\n",
      "p-value: 0.978419092554931\n",
      "People with no siblings do not enjoy the movie more.\n"
     ]
    }
   ],
   "source": [
    "#since the data is not normally distributed\n",
    "statistic, p_value = mannwhitneyu(group1, group2, alternative='greater') # we want to know if grou1(onlychild) enjoy more.\n",
    "\n",
    "# Print the results\n",
    "print(\"Mann-Whitney U Statistic:\", statistic)\n",
    "print(\"p-value:\", p_value)\n",
    "\n",
    "# Interpret the results based on the p-value and your significance level (e.g., 0.05)\n",
    "if p_value < alpha:\n",
    "    print(\"People with no siblings enjoy the movie more.\")\n",
    "else:\n",
    "    print(\"People with no siblings do not enjoy the movie more.\")\n"
   ]
  },
  {
   "cell_type": "markdown",
   "id": "82f8486b",
   "metadata": {
    "id": "tQtOSSseKLns"
   },
   "source": [
    "# Q6: What proportion of movies exhibit an “only child effect”, i.e. are rated different by viewers with siblings vs. those without?"
   ]
  },
  {
   "cell_type": "markdown",
   "id": "2ff1ac8a",
   "metadata": {},
   "source": [
    "As explained in Q4, we took a same approach to answer this question. The result showed that 1.75% of moveis are rated different by viewers with siblings vs those without."
   ]
  },
  {
   "cell_type": "code",
   "execution_count": 37,
   "id": "iUgMdQc5LGns",
   "metadata": {
    "colab": {
     "base_uri": "https://localhost:8080/"
    },
    "id": "iUgMdQc5LGns",
    "outputId": "7e2c1145-96d1-4b21-d60a-67d3590205f8"
   },
   "outputs": [
    {
     "name": "stdout",
     "output_type": "stream",
     "text": [
      "1.75% of movies exhibit an only child effect.\n"
     ]
    }
   ],
   "source": [
    "count_different_ratings = 0\n",
    "count = 0\n",
    "norm_count =0\n",
    "not_norm_count =0\n",
    "for i in range(1, 401):  # Columns 1-400 are movie ratings\n",
    "    # Extract ratings for the current movie\n",
    "    child = data.iloc[:, i-1]\n",
    "\n",
    "    # Extract ratings based on gender\n",
    "    only_child = child[data['Are you an only child? (1: Yes; 0: No; -1: Did not respond)'] == 1].dropna()\n",
    "    have_siblings = child[data['Are you an only child? (1: Yes; 0: No; -1: Did not respond)'] == 0].dropna()\n",
    "\n",
    "    # Compute the mean and standard deviation of the data\n",
    "    only_child_mean = np.mean(only_child)\n",
    "    only_child_std = np.std(only_child)\n",
    "    \n",
    "    # Perform the KS test\n",
    "    # The 'cdf' parameter is set to 'norm' which stands for the normal distribution.\n",
    "    # The 'args' parameter receives the parameters of the distribution, in this case, the mean and std of the data.\n",
    "    D, p_value_only_child = kstest(only_child, 'norm', args=(only_child_mean, only_child_std))\n",
    "\n",
    "    have_siblings_mean = np.mean(have_siblings)\n",
    "    have_siblings_std = np.std(have_siblings)\n",
    "    D, p_value_have_siblings = kstest(have_siblings, 'norm', args=(have_siblings_mean, have_siblings_std))\n",
    "\n",
    "    alpha = 0.005\n",
    "    if p_value_only_child > alpha and p_value_have_siblings > alpha: #null hypothesis: data is normally distributed\n",
    "      norm_count +=1\n",
    "      count +=1\n",
    "      # Perform t-test\n",
    "      statistic, p_value_var = levene(only_child, have_siblings)\n",
    "      if p_value_var < alpha:\n",
    "        t_stat, p_val_ttest = ttest_ind(only_child, have_siblings, equal_var=False)\n",
    "        # Check if p-value is less than 0.005\n",
    "        if p_val_ttest < alpha:\n",
    "            count_different_ratings += 1\n",
    "      else:\n",
    "        t_stat, p_val_ttest = ttest_ind(only_child, have_siblings, equal_var=True)\n",
    "        # Check if p-value is less than 0.005\n",
    "        if p_val_ttest < alpha:\n",
    "            count_different_ratings += 1\n",
    "    else: #data is not normally distributed\n",
    "      not_norm_count +=1\n",
    "      statistic, p_value_mw = mannwhitneyu(only_child, have_siblings, alternative='two-sided')\n",
    "      if p_value_mw < alpha:\n",
    "        count_different_ratings += 1\n",
    "prop = count_different_ratings/400\n",
    "print(f'{round((prop*100),2)}% of movies exhibit an only child effect.')"
   ]
  },
  {
   "cell_type": "markdown",
   "id": "2254c8a1",
   "metadata": {
    "id": "wGeespgJq3XZ"
   },
   "source": [
    "# Q7: Do people who like to watch movies socially enjoy ‘The Wolf of Wall Street (2013)’ more than those who prefer to watch them alone?"
   ]
  },
  {
   "attachments": {},
   "cell_type": "markdown",
   "id": "de9455ef",
   "metadata": {},
   "source": [
    "To assess this, we first divided people who rated this movie into 2 groups, social and non-social watchers. We did a Levene’s test to find if there was a statistically significant difference in the variance of the ratings given by these two groups. The p-value for the test was 0.37, indicating no variance. Since the data was evidently not normally distributed, we proceeded with a ‘greater than’ Mann-WhitneyU test to check if social watchers enjoyed the movie more. The p-value was 0.94, implying that people who like to watch movies socially do not enjoy the movie more than those who like to watch it alone."
   ]
  },
  {
   "cell_type": "code",
   "execution_count": 38,
   "id": "l9SoCAt1LG0d",
   "metadata": {
    "id": "l9SoCAt1LG0d"
   },
   "outputs": [
    {
     "data": {
      "text/plain": [
       "(5       2.5\n",
       " 6       1.0\n",
       " 12      3.5\n",
       " 14      4.0\n",
       " 18      4.0\n",
       "        ... \n",
       " 1082    4.0\n",
       " 1085    4.0\n",
       " 1087    4.0\n",
       " 1093    3.5\n",
       " 1094    2.0\n",
       " Name: The Wolf of Wall Street (2013), Length: 270, dtype: float64,\n",
       " 3       4.0\n",
       " 4       3.0\n",
       " 7       3.5\n",
       " 8       3.5\n",
       " 9       3.0\n",
       "        ... \n",
       " 1078    3.5\n",
       " 1080    4.0\n",
       " 1086    3.5\n",
       " 1090    4.0\n",
       " 1096    4.0\n",
       " Name: The Wolf of Wall Street (2013), Length: 393, dtype: float64)"
      ]
     },
     "execution_count": 38,
     "metadata": {},
     "output_type": "execute_result"
    }
   ],
   "source": [
    "# Getting the desired data from our df and split into two groups.\n",
    "q7_df = data[['The Wolf of Wall Street (2013)','Movies are best enjoyed alone (1: Yes; 0: No; -1: Did not respond)']]\n",
    "social = q7_df[q7_df['Movies are best enjoyed alone (1: Yes; 0: No; -1: Did not respond)']==0]\n",
    "alone = q7_df[q7_df['Movies are best enjoyed alone (1: Yes; 0: No; -1: Did not respond)']==1]\n",
    "group1 = social['The Wolf of Wall Street (2013)'].dropna()\n",
    "group2 = alone['The Wolf of Wall Street (2013)'].dropna()\n",
    "group1,group2"
   ]
  },
  {
   "cell_type": "code",
   "execution_count": 39,
   "id": "lHjjIPulNIZp",
   "metadata": {
    "colab": {
     "base_uri": "https://localhost:8080/",
     "height": 484
    },
    "id": "lHjjIPulNIZp",
    "outputId": "ad41230f-e551-4f87-eae9-18ce3ba56891"
   },
   "outputs": [
    {
     "data": {
      "text/plain": [
       "Text(0.5, 1.0, 'Group 2')"
      ]
     },
     "execution_count": 39,
     "metadata": {},
     "output_type": "execute_result"
    },
    {
     "data": {
      "image/png": "[encoded data removed]",
      "text/plain": [
       "<Figure size 640x480 with 2 Axes>"
      ]
     },
     "metadata": {},
     "output_type": "display_data"
    }
   ],
   "source": [
    "# Plot both groups to get an understanding of the distribution.\n",
    "\n",
    "plt.subplot(1,2,1)\n",
    "plt.hist(group2, density=True)\n",
    "plt.title('Group 1')\n",
    "\n",
    "plt.subplot(1,2,2)\n",
    "plt.hist(group1, density=True)\n",
    "plt.title('Group 2')"
   ]
  },
  {
   "cell_type": "markdown",
   "id": "d60b9a95",
   "metadata": {},
   "source": [
    "From the graph we can conclude that both of the groups are not normally distributed."
   ]
  },
  {
   "cell_type": "code",
   "execution_count": 40,
   "id": "jbi6WOWeNIb-",
   "metadata": {
    "colab": {
     "base_uri": "https://localhost:8080/"
    },
    "id": "jbi6WOWeNIb-",
    "outputId": "a5b04148-866c-4437-a623-b1d2b20ee328"
   },
   "outputs": [
    {
     "name": "stdout",
     "output_type": "stream",
     "text": [
      "Mann-Whitney U Statistic: 49303.5\n",
      "p-value: 0.9436657996253056\n",
      "People who like to watch movies socially do not enjoy the movie more than those who like to watch it alone.\n"
     ]
    }
   ],
   "source": [
    "# Since the data is not normal.\n",
    "statistic, p_value = mannwhitneyu(group1, group2, alternative='greater')\n",
    "\n",
    "# Print the results\n",
    "print(\"Mann-Whitney U Statistic:\", statistic)\n",
    "print(\"p-value:\", p_value)\n",
    "\n",
    "# Interpret the results based on the p-value and your significance level (e.g., 0.05)\n",
    "if p_value < alpha:\n",
    "    print(\"People who like to watch movies socially enjoy the movie more.\")\n",
    "else:\n",
    "    print(\"People who like to watch movies socially do not enjoy the movie more than those who like to watch it alone.\")"
   ]
  },
  {
   "attachments": {},
   "cell_type": "markdown",
   "id": "7d9862a7",
   "metadata": {
    "id": "DFuHaq-vNIgK"
   },
   "source": [
    "# Q8: What proportion of movies exhibit such a “social watching” effect?"
   ]
  },
  {
   "cell_type": "markdown",
   "id": "340d7aa7",
   "metadata": {},
   "source": [
    "We took a similar approach to this proportion-related question as well - divided all users into two groups: social and non-social watchers per movie. We chose the test with the most statistical power for each movie by checking for normality and then for similarity of variances in both groups. Here we found that 1.5% of movies exhibit a social watching effect i.e., have people enjoy watching movies socially enjoyed them more than those who prefer to watch them alone."
   ]
  },
  {
   "cell_type": "code",
   "execution_count": 41,
   "id": "VG6E449oNIm5",
   "metadata": {
    "colab": {
     "base_uri": "https://localhost:8080/"
    },
    "id": "VG6E449oNIm5",
    "outputId": "913511ad-6812-48e2-bb72-ceee15dec59c"
   },
   "outputs": [
    {
     "name": "stdout",
     "output_type": "stream",
     "text": [
      "1.5% of movies exhibit a “social watching” effect.\n"
     ]
    }
   ],
   "source": [
    "count_different_ratings = 0\n",
    "count = 0\n",
    "norm_count =0\n",
    "not_norm_count =0\n",
    "for i in range(1, 401):  # Columns 1-400 are movie ratings\n",
    "    # Extract ratings for the current movie\n",
    "    temp = data.iloc[:, i-1]\n",
    "\n",
    "    social = temp[data['Movies are best enjoyed alone (1: Yes; 0: No; -1: Did not respond)'] == 0].dropna()\n",
    "    alone = temp[data['Movies are best enjoyed alone (1: Yes; 0: No; -1: Did not respond)'] == 1].dropna()\n",
    "\n",
    "    # Compute the mean and standard deviation of the data\n",
    "    social_mean = np.mean(social)\n",
    "    social_std = np.std(social)\n",
    "    # Perform the KS test\n",
    "    # The 'cdf' parameter is set to 'norm' which stands for the normal distribution.\n",
    "    # The 'args' parameter receives the parameters of the distribution, in this case, the mean and std of the data.\n",
    "    D, p_value_social = kstest(social, 'norm', args=(social_mean, social_std))\n",
    "\n",
    "    alone_mean = np.mean(alone)\n",
    "    alone_std = np.std(alone)\n",
    "    D, p_value_alone = kstest(alone, 'norm', args=(alone_mean, alone_std))\n",
    "\n",
    "    alpha = 0.005\n",
    "    if p_value_social > alpha and p_value_alone > alpha: #null hypothesis: data is normally distributed\n",
    "      norm_count +=1\n",
    "      count +=1\n",
    "      # Perform t-test\n",
    "      statistic, p_value_var = levene(social, alone)\n",
    "      if p_value_var < alpha:\n",
    "        t_stat, p_val_ttest = ttest_ind(social, alone, equal_var=False)\n",
    "        if p_val_ttest < alpha:\n",
    "            count_different_ratings += 1\n",
    "      else:\n",
    "        t_stat, p_val_ttest = ttest_ind(social, alone, equal_var=True)\n",
    "        if p_val_ttest < alpha:\n",
    "            count_different_ratings += 1\n",
    "\n",
    "\n",
    "    else: #data is not normally distributed\n",
    "      not_norm_count +=1\n",
    "      statistic, p_value_mw = mannwhitneyu(social, alone, alternative='greater')\n",
    "      if p_value_mw < alpha:\n",
    "        count_different_ratings += 1\n",
    "prop = count_different_ratings/400\n",
    "print(f'{round((prop*100),2)}% of movies exhibit a “social watching” effect.')"
   ]
  },
  {
   "attachments": {},
   "cell_type": "markdown",
   "id": "138c85f5",
   "metadata": {
    "id": "ZcYLG8LhNt65"
   },
   "source": [
    "# Q9:  Is the ratings distribution of ‘Home Alone (1990)’ different than that of ‘Finding Nemo (2003)’?"
   ]
  },
  {
   "cell_type": "markdown",
   "id": "6312c7e8",
   "metadata": {
    "id": "T1hdEoonNt9R"
   },
   "source": [
    "We created 2 groups with the ratings of the 2 movies. We plotted both groups where we found that the data was not distributed normally. Thereafter, we did a KS test to find if there is a significant difference between the distributions of the two samples. P-value was of the order of 10e-10, indicating significant difference between the groups. "
   ]
  },
  {
   "cell_type": "code",
   "execution_count": 42,
   "id": "N-Gs9HOKNt_o",
   "metadata": {
    "colab": {
     "base_uri": "https://localhost:8080/"
    },
    "id": "N-Gs9HOKNt_o",
    "outputId": "6e9780eb-8412-42d1-fa3d-35739c66064a"
   },
   "outputs": [
    {
     "data": {
      "text/plain": [
       "(0       4.0\n",
       " 1       4.0\n",
       " 2       4.0\n",
       " 3       1.5\n",
       " 4       2.0\n",
       "        ... \n",
       " 1087    3.5\n",
       " 1090    2.5\n",
       " 1091    3.5\n",
       " 1093    3.5\n",
       " 1096    3.0\n",
       " Name: Home Alone (1990), Length: 857, dtype: float64,\n",
       " 0       3.5\n",
       " 1       4.0\n",
       " 2       3.5\n",
       " 3       2.5\n",
       " 4       2.5\n",
       "        ... \n",
       " 1092    2.5\n",
       " 1093    4.0\n",
       " 1094    1.5\n",
       " 1095    4.0\n",
       " 1096    4.0\n",
       " Name: Finding Nemo (2003), Length: 1014, dtype: float64)"
      ]
     },
     "execution_count": 42,
     "metadata": {},
     "output_type": "execute_result"
    }
   ],
   "source": [
    "# Getting the desired data from our df and split into two groups.\n",
    "q9_df = data[['Home Alone (1990)','Finding Nemo (2003)']]\n",
    "group1 = q9_df['Home Alone (1990)'].dropna()\n",
    "group2 = q9_df['Finding Nemo (2003)'].dropna()\n",
    "group1,group2"
   ]
  },
  {
   "cell_type": "code",
   "execution_count": 43,
   "id": "yFJ6OU2BNuB9",
   "metadata": {
    "colab": {
     "base_uri": "https://localhost:8080/",
     "height": 484
    },
    "id": "yFJ6OU2BNuB9",
    "outputId": "e605634e-6cd5-4aa5-dc5e-4225e8ae87ce"
   },
   "outputs": [
    {
     "data": {
      "text/plain": [
       "Text(0.5, 1.0, 'Group 2')"
      ]
     },
     "execution_count": 43,
     "metadata": {},
     "output_type": "execute_result"
    },
    {
     "data": {
      "image/png": "[encoded data removed]",
      "text/plain": [
       "<Figure size 640x480 with 2 Axes>"
      ]
     },
     "metadata": {},
     "output_type": "display_data"
    }
   ],
   "source": [
    "# Plot for general idea of the groups.\n",
    "plt.subplot(1,2,1)\n",
    "plt.hist(group2, density=True)\n",
    "plt.title('Group 1')\n",
    "\n",
    "plt.subplot(1,2,2)\n",
    "plt.hist(group1, density=True)\n",
    "plt.title('Group 2')"
   ]
  },
  {
   "cell_type": "code",
   "execution_count": 44,
   "id": "fCkUHFiKNJA9",
   "metadata": {
    "colab": {
     "base_uri": "https://localhost:8080/"
    },
    "id": "fCkUHFiKNJA9",
    "outputId": "2afc18db-f37a-40f4-cc0c-f4e197b41b13"
   },
   "outputs": [
    {
     "name": "stdout",
     "output_type": "stream",
     "text": [
      "KS Statistic: 0.15269080020897632\n",
      "p-value: 6.379397182836346e-10\n",
      "There is evidence of a significant difference between the two samples' distributions.\n"
     ]
    }
   ],
   "source": [
    "#K-S test to confirm difference in distribution\n",
    "statistic, p_value = ks_2samp(group1, group2)\n",
    "\n",
    "# Print the results\n",
    "print(\"KS Statistic:\", statistic)\n",
    "print(\"p-value:\", p_value)\n",
    "\n",
    "# Interpret the results based on the p-value and your significance level (e.g., 0.05)\n",
    "if p_value < alpha:\n",
    "    print(\"There is evidence of a significant difference between the two samples' distributions.\")\n",
    "else:\n",
    "    print(\"There is no evidence of a significant difference between the two samples' distributions.\")"
   ]
  },
  {
   "cell_type": "markdown",
   "id": "9330ca34",
   "metadata": {
    "colab": {
     "base_uri": "https://localhost:8080/"
    },
    "id": "vtBUCt-c0ku5",
    "outputId": "acb14657-fd9b-48bf-db6c-ddf927bd40f6"
   },
   "source": [
    "# Q10: There are ratings on movies from several franchises (‘Star Wars’, ‘Harry Potter’, ‘The Matrix’, ‘Indiana Jones’, ‘Jurassic Park’, ‘Pirates of the Caribbean’, ‘Toy Story’, ‘Batman’) in this dataset. How many of these are of inconsistent quality, as experienced by viewers? "
   ]
  },
  {
   "cell_type": "markdown",
   "id": "0ec18e22",
   "metadata": {
    "id": "SayCYxPcOJ15"
   },
   "source": [
    "For each of the franchise, we selected the columns that belonged to the franchise. We only kept rows that had no null values since it would be invalid to check for inconsistency in the ratings given by a user if they haven’t watched all movies of the franchise. We conducted a one-way f-statistic for each franchise to check if there is any significant difference among at least one pair of movies within the franchise. We found that from the franchises’ listed, only Harry Potter and Pirates of the Caribbean had consistent quality (there was no significant difference in the movies under these franchises). "
   ]
  },
  {
   "cell_type": "code",
   "execution_count": 45,
   "id": "luEfmC86OJ4P",
   "metadata": {
    "colab": {
     "base_uri": "https://localhost:8080/"
    },
    "id": "luEfmC86OJ4P",
    "outputId": "e225ef3d-3b36-44fa-e669-59feecec3630"
   },
   "outputs": [
    {
     "name": "stdout",
     "output_type": "stream",
     "text": [
      "There is evidence of a significant difference among at least one pair of groups for Star\\ Wars.\n",
      "There is no evidence of a significant difference among the groups for Harry\\ Potter.\n",
      "There is evidence of a significant difference among at least one pair of groups for The\\ Matrix.\n",
      "There is evidence of a significant difference among at least one pair of groups for Indiana\\ Jones.\n",
      "There is evidence of a significant difference among at least one pair of groups for Jurassic\\ Park.\n",
      "There is no evidence of a significant difference among the groups for Pirates\\ of\\ the\\ Caribbean.\n",
      "There is evidence of a significant difference among at least one pair of groups for Toy\\ Story.\n",
      "There is evidence of a significant difference among at least one pair of groups for Batman.\n"
     ]
    }
   ],
   "source": [
    "franchise_list = ['Star Wars', 'Harry Potter', 'The Matrix', 'Indiana Jones', 'Jurassic Park', 'Pirates of the Caribbean', 'Toy Story', 'Batman']\n",
    "# Convert the list to a string representation\n",
    "franchise_list = [re.escape(movie) for movie in franchise_list]\n",
    "for movie in franchise_list:\n",
    "  selected_columns = data.columns[data.columns.str.contains(movie)]\n",
    "  selected_data = data[selected_columns]\n",
    "  selected_data = selected_data.dropna() #if any row has a null value, drop the row\n",
    "\n",
    "  f_statistic, p_value = f_oneway(*[selected_data[column] for column in selected_data.columns])\n",
    "  \n",
    "  # # Print the results\n",
    "  # print(\"F-statistic:\", f_statistic)\n",
    "  # print(\"p-value:\", p_value)\n",
    "\n",
    "  # Interpret the results based on the p-value and your chosen significance level (e.g., 0.05)\n",
    "  if p_value < alpha:\n",
    "      print(f\"There is evidence of a significant difference among at least one pair of groups for {movie}.\")\n",
    "  else:\n",
    "      print(f\"There is no evidence of a significant difference among the groups for {movie}.\")"
   ]
  },
  {
   "cell_type": "markdown",
   "id": "33e06c59",
   "metadata": {
    "id": "ChIlTBdzdcOP"
   },
   "source": [
    "# Extra Question: Are people who get completely immersed in the alternative reality of the film when watching a movie tend to leave a review for the movies that they watched?"
   ]
  },
  {
   "cell_type": "markdown",
   "id": "6bce3272",
   "metadata": {},
   "source": [
    "In this question we want to know if people who thinks they get immersed in the alternative reality of the film tends to leave a rating for the movies they watched than people who are less immersed. Based on the survey we had, on a scale of 1-6, we split data into two groups. We consider the people who give a rating greater than 3 a immersed viewer, and others as less immersed viewers. We performed a Mann-Whitney U test on two groups. The test returned a p-value:1.641e-18 which is smaller than our alpha of 0.005. We reject the null hypothsis and conclude that immersed viewers does tend to leave more movie ratings. However, it is important to consider that immersed viewers might also tend to watch more movies than less immersed viewers. This behavioral difference could be a confounding variable that affects the number of ratings left by a viewer. If immersed viewers do indeed watch more films, the higher number of ratings could be a result of higher viewership rather than a direct correlation with their level of immersion. Since we donot have the access to gather the data of the number of movies watched by each respondent, further research is necessary to untangle these influences."
   ]
  },
  {
   "cell_type": "code",
   "execution_count": 46,
   "id": "59fda581",
   "metadata": {},
   "outputs": [],
   "source": [
    "less_immersed = data[data['When watching a movie I get completely immersed in the alternative reality of the film']<=3]\n",
    "immersed = data[data['When watching a movie I get completely immersed in the alternative reality of the film']>3]"
   ]
  },
  {
   "cell_type": "code",
   "execution_count": 47,
   "id": "b79747aa",
   "metadata": {},
   "outputs": [],
   "source": [
    "# Getting the ratings only for our targeted groups\n",
    "immersed_ratings = immersed.iloc[:,:400] #immersed viewer's ratings\n",
    "less_immersed_ratings = less_immersed.iloc[:,:400] #less immersed viewer's ratings\n"
   ]
  },
  {
   "cell_type": "code",
   "execution_count": 48,
   "id": "6ac0ac04",
   "metadata": {},
   "outputs": [
    {
     "data": {
      "text/plain": [
       "(0        70\n",
       " 1        22\n",
       " 2        27\n",
       " 3        82\n",
       " 4       118\n",
       "        ... \n",
       " 1090    119\n",
       " 1092     60\n",
       " 1093    357\n",
       " 1094     83\n",
       " 1096    111\n",
       " Length: 829, dtype: int64,\n",
       " 14       61\n",
       " 17       15\n",
       " 20       66\n",
       " 21       30\n",
       " 24      101\n",
       "        ... \n",
       " 1083     23\n",
       " 1087    253\n",
       " 1088     96\n",
       " 1091     50\n",
       " 1095     32\n",
       " Length: 245, dtype: int64)"
      ]
     },
     "execution_count": 48,
     "metadata": {},
     "output_type": "execute_result"
    }
   ],
   "source": [
    "# Count total number of ratings each viewer has\n",
    "group1 = immersed_ratings.notna().sum(axis=1) \n",
    "group2 = less_immersed_ratings.notna().sum(axis=1)\n",
    "group1,group2"
   ]
  },
  {
   "cell_type": "code",
   "execution_count": 49,
   "id": "6b149f8b",
   "metadata": {},
   "outputs": [
    {
     "data": {
      "image/png": "[encoded data removed]",
      "text/plain": [
       "<Figure size 640x480 with 2 Axes>"
      ]
     },
     "metadata": {},
     "output_type": "display_data"
    }
   ],
   "source": [
    "# Plot both groups to get an overall understanding\n",
    "plt.subplot(1,2,1)\n",
    "plt.bar(group1.index,group1.values)\n",
    "plt.title('Group 1')\n",
    "\n",
    "plt.subplot(1,2,2)\n",
    "plt.bar(group2.index,group2.values)\n",
    "plt.title('Group 2')\n",
    "plt.tight_layout()"
   ]
  },
  {
   "cell_type": "code",
   "execution_count": 50,
   "id": "8171aec5",
   "metadata": {},
   "outputs": [
    {
     "name": "stdout",
     "output_type": "stream",
     "text": [
      "Mann-Whitney U Statistic: 104127.0\n",
      "p-value: 1.6410731510652519e-18\n",
      "Immersed viewers leave more ratings.\n"
     ]
    }
   ],
   "source": [
    "# Since both of the groups are not normally distributed, we will perform a Mann-WhitneyU test\n",
    "\n",
    "statistic, p_value_mw = mannwhitneyu(group1, group2, alternative='greater') #set alternative to greater to see if group1(immersed viewers) tends to have larger values\n",
    "# Print the results\n",
    "print(\"Mann-Whitney U Statistic:\", statistic)\n",
    "print(\"p-value:\", p_value)\n",
    "\n",
    "# Interpret the results based on the p-value and your significance level (e.g., 0.05)\n",
    "if p_value < alpha:\n",
    "    print(\"Immersed viewers leave more ratings.\")\n",
    "else:\n",
    "    print(\"The ratings participation level is not statisticlly significant between immersed and less immersed viewers.\")\n"
   ]
  }
 ],
 "metadata": {
  "colab": {
   "provenance": []
  },
  "kernelspec": {
   "display_name": "Python 3 (ipykernel)",
   "language": "python",
   "name": "python3"
  },
  "language_info": {
   "codemirror_mode": {
    "name": "ipython",
    "version": 3
   },
   "file_extension": ".py",
   "mimetype": "text/x-python",
   "name": "python",
   "nbconvert_exporter": "python",
   "pygments_lexer": "ipython3",
   "version": "3.11.5"
  }
 },
 "nbformat": 4,
 "nbformat_minor": 5
}
